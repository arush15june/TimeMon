{
 "cells": [
  {
   "cell_type": "code",
   "execution_count": 1,
   "metadata": {},
   "outputs": [],
   "source": [
    "%matplotlib ipympl\n",
    "\n",
    "import pandas as pd\n",
    "import matplotlib.pyplot as plt\n",
    "import seaborn as sns\n",
    "import numpy as np\n",
    "\n",
    "sns.set_theme()\n",
    "sns.set_style('darkgrid')"
   ]
  },
  {
   "cell_type": "code",
   "execution_count": 2,
   "metadata": {},
   "outputs": [],
   "source": [
    "coordinator = pd.read_json('coordinator.jsonl', lines=True)"
   ]
  },
  {
   "cell_type": "code",
   "execution_count": 3,
   "metadata": {},
   "outputs": [
    {
     "name": "stderr",
     "output_type": "stream",
     "text": [
      "<ipython-input-3-d5abdb7257b9>:1: UserWarning: Boolean Series key will be reindexed to match DataFrame index.\n",
      "  cleaned_logs = coordinator[coordinator['f1_ts'] != 0][coordinator['f2_ts'] != 0][coordinator['f1_latency'] != 0][coordinator['f2_latency'] != 0]\n"
     ]
    }
   ],
   "source": [
    "cleaned_logs = coordinator[coordinator['f1_ts'] != 0][coordinator['f2_ts'] != 0][coordinator['f1_latency'] != 0][coordinator['f2_latency'] != 0]"
   ]
  },
  {
   "cell_type": "code",
   "execution_count": null,
   "metadata": {},
   "outputs": [],
   "source": []
  },
  {
   "cell_type": "code",
   "execution_count": 20,
   "metadata": {},
   "outputs": [
    {
     "data": {
      "application/vnd.jupyter.widget-view+json": {
       "model_id": "f3bb9cd419d44ab7ac698083a786bc56",
       "version_major": 2,
       "version_minor": 0
      },
      "text/plain": [
       "Canvas(toolbar=Toolbar(toolitems=[('Home', 'Reset original view', 'home', 'home'), ('Back', 'Back to previous …"
      ]
     },
     "metadata": {},
     "output_type": "display_data"
    },
    {
     "data": {
      "text/plain": [
       "Text(0.5, 1.0, 'Azure B1s 3-node cluster RPC Latency')"
      ]
     },
     "execution_count": 20,
     "metadata": {},
     "output_type": "execute_result"
    }
   ],
   "source": [
    "fig, ax = plt.subplots()\n",
    "ax.plot(cleaned_logs['ts'], cleaned_logs['f1_latency']/10**6, label='Follower 1')\n",
    "ax.plot(cleaned_logs['ts'], cleaned_logs['f2_latency']/10**6, label='Follower 2')\n",
    "handles, labels = ax.get_legend_handles_labels()\n",
    "ax.legend(handles, labels)\n",
    "ax.set_ylabel(\"RPC Latency (ms)\")\n",
    "ax.set_xlabel(\"Timestamp\")\n",
    "ax.set_title(\"Azure B1s 3-node cluster RPC Latency\")"
   ]
  },
  {
   "cell_type": "code",
   "execution_count": 21,
   "metadata": {},
   "outputs": [
    {
     "data": {
      "application/vnd.jupyter.widget-view+json": {
       "model_id": "fc5e601c6d5a4cde929a4b1c2ed530b1",
       "version_major": 2,
       "version_minor": 0
      },
      "text/plain": [
       "Canvas(toolbar=Toolbar(toolitems=[('Home', 'Reset original view', 'home', 'home'), ('Back', 'Back to previous …"
      ]
     },
     "metadata": {},
     "output_type": "display_data"
    },
    {
     "data": {
      "text/plain": [
       "Text(0.5, 1.0, 'Azure B1s 3-node cluster RPC Latency %ile')"
      ]
     },
     "execution_count": 21,
     "metadata": {},
     "output_type": "execute_result"
    }
   ],
   "source": [
    "quantiles = np.arange(0, 1.0, 0.001)\n",
    "fig, ax = plt.subplots()\n",
    "ax.plot([q*100 for q in quantiles], [(cleaned_logs['f1_latency']/10**6).quantile(q=q) for q in quantiles], label='Follower 1')\n",
    "ax.plot([q*100 for q in quantiles], [(cleaned_logs['f2_latency']/10**6).quantile(q=q) for q in quantiles], label='Follower 2')\n",
    "handles, labels = ax.get_legend_handles_labels()\n",
    "ax.legend(handles, labels)\n",
    "ax.set_ylabel(\"RPC Latency (ms)\")\n",
    "ax.set_xlabel(\"%ile\")\n",
    "ax.set_title(\"Azure B1s 3-node cluster RPC Latency %ile\")"
   ]
  },
  {
   "cell_type": "code",
   "execution_count": 19,
   "metadata": {},
   "outputs": [
    {
     "data": {
      "application/vnd.jupyter.widget-view+json": {
       "model_id": "902e9b10e9134c8eaa581041c5f56295",
       "version_major": 2,
       "version_minor": 0
      },
      "text/plain": [
       "Canvas(toolbar=Toolbar(toolitems=[('Home', 'Reset original view', 'home', 'home'), ('Back', 'Back to previous …"
      ]
     },
     "metadata": {},
     "output_type": "display_data"
    },
    {
     "data": {
      "text/plain": [
       "Text(0.5, 1.0, 'Azure B1s 3-node cluster clock skew')"
      ]
     },
     "execution_count": 19,
     "metadata": {},
     "output_type": "execute_result"
    }
   ],
   "source": [
    "fig, ax = plt.subplots()\n",
    "ax.plot(cleaned_logs['ts'], (cleaned_logs['f1_ts'] - cleaned_logs['ts'])/10**6, label='Follower 1')\n",
    "ax.plot(cleaned_logs['ts'], (cleaned_logs['f2_ts'] - cleaned_logs['ts'])/10**6, label='Follower 2')\n",
    "ax.plot(cleaned_logs['ts'], cleaned_logs['ts'] - cleaned_logs['ts'], label='Coordinator')\n",
    "handles, labels = ax.get_legend_handles_labels()\n",
    "ax.legend(handles, labels)\n",
    "ax.set_ylabel(\"Clock Skew (ms)\")\n",
    "ax.set_xlabel(\"Timestamp\")\n",
    "ax.set_title(\"Azure B1s 3-node cluster clock skew\")"
   ]
  },
  {
   "cell_type": "code",
   "execution_count": 22,
   "metadata": {},
   "outputs": [
    {
     "data": {
      "application/vnd.jupyter.widget-view+json": {
       "model_id": "262c94c49c1f4606baaaf31268289566",
       "version_major": 2,
       "version_minor": 0
      },
      "text/plain": [
       "Canvas(toolbar=Toolbar(toolitems=[('Home', 'Reset original view', 'home', 'home'), ('Back', 'Back to previous …"
      ]
     },
     "metadata": {},
     "output_type": "display_data"
    },
    {
     "data": {
      "text/plain": [
       "Text(0.5, 1.0, 'Azure B1s 3-node cluster %ile')"
      ]
     },
     "execution_count": 22,
     "metadata": {},
     "output_type": "execute_result"
    }
   ],
   "source": [
    "quantiles = np.arange(0, 1.0, 0.001)\n",
    "fig, ax = plt.subplots()\n",
    "ax.plot([q*100 for q in quantiles], [(abs(cleaned_logs['f1_ts'] - cleaned_logs['ts'])/10**6).quantile(q=q) for q in quantiles], label='Follower 1')\n",
    "ax.plot([q*100 for q in quantiles], [(abs(cleaned_logs['f2_ts'] - cleaned_logs['ts'])/10**6).quantile(q=q) for q in quantiles], label='Follower 2')\n",
    "handles, labels = ax.get_legend_handles_labels()\n",
    "ax.legend(handles, labels)\n",
    "ax.set_ylabel(\"Clock Skew (ms)\")\n",
    "ax.set_xlabel(\"%ile\")\n",
    "ax.set_title(\"Azure B1s 3-node cluster %ile\")"
   ]
  },
  {
   "cell_type": "code",
   "execution_count": null,
   "metadata": {},
   "outputs": [],
   "source": []
  },
  {
   "cell_type": "code",
   "execution_count": null,
   "metadata": {},
   "outputs": [],
   "source": []
  }
 ],
 "metadata": {
  "kernelspec": {
   "display_name": "Python 3",
   "language": "python",
   "name": "python3"
  },
  "language_info": {
   "codemirror_mode": {
    "name": "ipython",
    "version": 3
   },
   "file_extension": ".py",
   "mimetype": "text/x-python",
   "name": "python",
   "nbconvert_exporter": "python",
   "pygments_lexer": "ipython3",
   "version": "3.8.5"
  }
 },
 "nbformat": 4,
 "nbformat_minor": 2
}
