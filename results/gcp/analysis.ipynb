{
 "cells": [
  {
   "cell_type": "code",
   "execution_count": 1,
   "metadata": {},
   "outputs": [],
   "source": [
    "%matplotlib ipympl\n",
    "\n",
    "import pandas as pd\n",
    "import matplotlib.pyplot as plt\n",
    "import seaborn as sns\n",
    "import numpy as np\n",
    "\n",
    "sns.set_theme()\n",
    "sns.set_style('darkgrid')"
   ]
  },
  {
   "cell_type": "code",
   "execution_count": 2,
   "metadata": {},
   "outputs": [],
   "source": [
    "coordinator = pd.read_json('coordinator.jsonl', lines=True)"
   ]
  },
  {
   "cell_type": "code",
   "execution_count": 3,
   "metadata": {},
   "outputs": [
    {
     "name": "stderr",
     "output_type": "stream",
     "text": [
      "<ipython-input-3-d5abdb7257b9>:1: UserWarning: Boolean Series key will be reindexed to match DataFrame index.\n",
      "  cleaned_logs = coordinator[coordinator['f1_ts'] != 0][coordinator['f2_ts'] != 0][coordinator['f1_latency'] != 0][coordinator['f2_latency'] != 0]\n",
      "<ipython-input-3-d5abdb7257b9>:1: UserWarning: Boolean Series key will be reindexed to match DataFrame index.\n",
      "  cleaned_logs = coordinator[coordinator['f1_ts'] != 0][coordinator['f2_ts'] != 0][coordinator['f1_latency'] != 0][coordinator['f2_latency'] != 0]\n",
      "<ipython-input-3-d5abdb7257b9>:1: UserWarning: Boolean Series key will be reindexed to match DataFrame index.\n",
      "  cleaned_logs = coordinator[coordinator['f1_ts'] != 0][coordinator['f2_ts'] != 0][coordinator['f1_latency'] != 0][coordinator['f2_latency'] != 0]\n"
     ]
    }
   ],
   "source": [
    "cleaned_logs = coordinator[coordinator['f1_ts'] != 0][coordinator['f2_ts'] != 0][coordinator['f1_latency'] != 0][coordinator['f2_latency'] != 0]"
   ]
  },
  {
   "cell_type": "code",
   "execution_count": 4,
   "metadata": {},
   "outputs": [
    {
     "name": "stdout",
     "output_type": "stream",
     "text": [
      "                  caller             callerTs  f1_latency  \\\n",
      "3       10.170.0.4:50426  1606645103255603212     1273086   \n",
      "4       10.170.0.3:44982  1606645102719285762     1273086   \n",
      "5       10.170.0.4:50426  1606645103306973437      945933   \n",
      "6       10.170.0.3:44982  1606645102770615716      945933   \n",
      "7       10.170.0.4:50426  1606645103358351579     1049267   \n",
      "...                  ...                  ...         ...   \n",
      "418519  10.170.0.3:44982  1606655874790963825     1043215   \n",
      "418520  10.170.0.4:50426  1606655874815278102     1068401   \n",
      "418521  10.170.0.3:44982  1606655874842304071     1068401   \n",
      "418522  10.170.0.4:50426  1606655874866841884     1110672   \n",
      "418523  10.170.0.3:44982  1606655874893816361     1110672   \n",
      "\n",
      "                      f1_ts  f2_latency                f2_ts followerLabel  \\\n",
      "3       1606645103255603212     1010566  1606645102667860576    follower-1   \n",
      "4       1606645103255603212     1112784  1606645102719285762    follower-2   \n",
      "5       1606645103306973437     1112784  1606645102719285762    follower-1   \n",
      "6       1606645103306973437      992596  1606645102770615716    follower-2   \n",
      "7       1606645103358351579      992596  1606645102770615716    follower-1   \n",
      "...                     ...         ...                  ...           ...   \n",
      "418519  1606655874763695883     1013704  1606655874790963825    follower-2   \n",
      "418520  1606655874815278102     1013704  1606655874790963825    follower-1   \n",
      "418521  1606655874815278102     1001712  1606655874842304071    follower-2   \n",
      "418522  1606655874866841884     1001712  1606655874842304071    follower-1   \n",
      "418523  1606655874866841884     1150719  1606655874893816361    follower-2   \n",
      "\n",
      "              label level msg   msgId  prev_latency  \\\n",
      "3       coordinator  info           1       1273086   \n",
      "4       coordinator  info         541       1112784   \n",
      "5       coordinator  info           2        945933   \n",
      "6       coordinator  info         542        992596   \n",
      "7       coordinator  info           3       1049267   \n",
      "...             ...   ...  ..     ...           ...   \n",
      "418519  coordinator  info      210107       1013704   \n",
      "418520  coordinator  info      208951       1068401   \n",
      "418521  coordinator  info      210108       1001712   \n",
      "418522  coordinator  info      208952       1110672   \n",
      "418523  coordinator  info      210109       1150719   \n",
      "\n",
      "                                  time                   ts  \n",
      "3       2020-11-29T10:18:22.683692463Z  1606645102683679710  \n",
      "4       2020-11-29T10:18:22.716390083Z  1606645102716369975  \n",
      "5       2020-11-29T10:18:22.739736014Z  1606645102739713083  \n",
      "6       2020-11-29T10:18:22.767799237Z  1606645102767779966  \n",
      "7       2020-11-29T10:18:22.795816778Z  1606645102795804652  \n",
      "...                                ...                  ...  \n",
      "418519   2020-11-29T13:17:54.79155532Z  1606655874791536055  \n",
      "418520  2020-11-29T13:17:54.816131244Z  1606655874816070010  \n",
      "418521  2020-11-29T13:17:54.842904893Z  1606655874842883311  \n",
      "418522  2020-11-29T13:17:54.867723217Z  1606655874867706261  \n",
      "418523  2020-11-29T13:17:54.894436734Z  1606655874894415775  \n",
      "\n",
      "[418521 rows x 14 columns]\n"
     ]
    }
   ],
   "source": [
    "print(cleaned_logs)"
   ]
  },
  {
   "cell_type": "code",
   "execution_count": 15,
   "metadata": {},
   "outputs": [
    {
     "data": {
      "application/vnd.jupyter.widget-view+json": {
       "model_id": "d0e12f8dae9747e2acc04b2bbd74a8da",
       "version_major": 2,
       "version_minor": 0
      },
      "text/plain": [
       "Canvas(toolbar=Toolbar(toolitems=[('Home', 'Reset original view', 'home', 'home'), ('Back', 'Back to previous …"
      ]
     },
     "metadata": {},
     "output_type": "display_data"
    },
    {
     "data": {
      "text/plain": [
       "Text(0.5, 1.0, 'GCP e2-micro 3-node cluster RPC Latency')"
      ]
     },
     "execution_count": 15,
     "metadata": {},
     "output_type": "execute_result"
    }
   ],
   "source": [
    "fig, ax = plt.subplots()\n",
    "ax.plot(cleaned_logs['ts'], cleaned_logs['f1_latency']/10**6, label='Follower 1')\n",
    "ax.plot(cleaned_logs['ts'], cleaned_logs['f2_latency']/10**6, label='Follower 2')\n",
    "handles, labels = ax.get_legend_handles_labels()\n",
    "ax.legend(handles, labels)\n",
    "ax.set_ylabel(\"RPC Latency (ms)\")\n",
    "ax.set_xlabel(\"Timestamp\")\n",
    "ax.set_title(\"GCP e2-micro 3-node cluster RPC Latency\")"
   ]
  },
  {
   "cell_type": "code",
   "execution_count": 14,
   "metadata": {},
   "outputs": [
    {
     "data": {
      "application/vnd.jupyter.widget-view+json": {
       "model_id": "e0d9dac4fa8a4650abf618e927baab3f",
       "version_major": 2,
       "version_minor": 0
      },
      "text/plain": [
       "Canvas(toolbar=Toolbar(toolitems=[('Home', 'Reset original view', 'home', 'home'), ('Back', 'Back to previous …"
      ]
     },
     "metadata": {},
     "output_type": "display_data"
    },
    {
     "data": {
      "text/plain": [
       "Text(0.5, 1.0, 'GCP e2-micro 3-node cluster RPC Latency %ile')"
      ]
     },
     "execution_count": 14,
     "metadata": {},
     "output_type": "execute_result"
    }
   ],
   "source": [
    "quantiles = np.arange(0, 1.0, 0.001)\n",
    "fig, ax = plt.subplots()\n",
    "ax.plot([q*100 for q in quantiles], [(cleaned_logs['f1_latency']/10**6).quantile(q=q) for q in quantiles], label='Follower 1')\n",
    "ax.plot([q*100 for q in quantiles], [(cleaned_logs['f2_latency']/10**6).quantile(q=q) for q in quantiles], label='Follower 2')\n",
    "handles, labels = ax.get_legend_handles_labels()\n",
    "ax.legend(handles, labels)\n",
    "ax.set_ylabel(\"RPC Latency (ms)\")\n",
    "ax.set_xlabel(\"%ile\")\n",
    "ax.set_title(\"GCP e2-micro 3-node cluster RPC Latency %ile\")"
   ]
  },
  {
   "cell_type": "code",
   "execution_count": 7,
   "metadata": {},
   "outputs": [
    {
     "data": {
      "application/vnd.jupyter.widget-view+json": {
       "model_id": "329a527960e7486dbfcfeb8ce55f949b",
       "version_major": 2,
       "version_minor": 0
      },
      "text/plain": [
       "Canvas(toolbar=Toolbar(toolitems=[('Home', 'Reset original view', 'home', 'home'), ('Back', 'Back to previous …"
      ]
     },
     "metadata": {},
     "output_type": "display_data"
    },
    {
     "data": {
      "text/plain": [
       "Text(0.5, 1.0, 'GCP e2-micro 3-node cluster clock skew')"
      ]
     },
     "execution_count": 7,
     "metadata": {},
     "output_type": "execute_result"
    }
   ],
   "source": [
    "fig, ax = plt.subplots()\n",
    "ax.plot(cleaned_logs['ts'], (cleaned_logs['f1_ts'] - cleaned_logs['ts'])/10**6, label='Follower 1')\n",
    "ax.plot(cleaned_logs['ts'], (cleaned_logs['f2_ts'] - cleaned_logs['ts'])/10**6, label='Follower 2')\n",
    "ax.plot(cleaned_logs['ts'], cleaned_logs['ts'] - cleaned_logs['ts'], label='Coordinator')\n",
    "handles, labels = ax.get_legend_handles_labels()\n",
    "ax.legend(handles, labels)\n",
    "ax.set_ylabel(\"Clock Skew (ms)\")\n",
    "ax.set_xlabel(\"Timestamp\")\n",
    "ax.set_title(\"GCP e2-micro 3-node cluster clock skew\")"
   ]
  },
  {
   "cell_type": "code",
   "execution_count": 16,
   "metadata": {},
   "outputs": [
    {
     "data": {
      "application/vnd.jupyter.widget-view+json": {
       "model_id": "a99c5a0850bb4cb2abdc77871a0e03e3",
       "version_major": 2,
       "version_minor": 0
      },
      "text/plain": [
       "Canvas(toolbar=Toolbar(toolitems=[('Home', 'Reset original view', 'home', 'home'), ('Back', 'Back to previous …"
      ]
     },
     "metadata": {},
     "output_type": "display_data"
    },
    {
     "data": {
      "text/plain": [
       "Text(0.5, 1.0, 'GCP e2-micro 3-node cluster %ile')"
      ]
     },
     "execution_count": 16,
     "metadata": {},
     "output_type": "execute_result"
    }
   ],
   "source": [
    "quantiles = np.arange(0, 1.0, 0.001)\n",
    "fig, ax = plt.subplots()\n",
    "ax.plot([q*100 for q in quantiles], [(abs(cleaned_logs['f1_ts'] - cleaned_logs['ts'])/10**6).quantile(q=q) for q in quantiles], label='Follower 1')\n",
    "ax.plot([q*100 for q in quantiles], [(abs(cleaned_logs['f2_ts'] - cleaned_logs['ts'])/10**6).quantile(q=q) for q in quantiles], label='Follower 2')\n",
    "handles, labels = ax.get_legend_handles_labels()\n",
    "ax.legend(handles, labels)\n",
    "ax.set_ylabel(\"Clock Skew (ms)\")\n",
    "ax.set_xlabel(\"%ile\")\n",
    "ax.set_title(\"GCP e2-micro 3-node cluster %ile\")"
   ]
  },
  {
   "cell_type": "code",
   "execution_count": null,
   "metadata": {},
   "outputs": [],
   "source": []
  }
 ],
 "metadata": {
  "kernelspec": {
   "display_name": "Python 3",
   "language": "python",
   "name": "python3"
  },
  "language_info": {
   "codemirror_mode": {
    "name": "ipython",
    "version": 3
   },
   "file_extension": ".py",
   "mimetype": "text/x-python",
   "name": "python",
   "nbconvert_exporter": "python",
   "pygments_lexer": "ipython3",
   "version": "3.8.5"
  }
 },
 "nbformat": 4,
 "nbformat_minor": 2
}
